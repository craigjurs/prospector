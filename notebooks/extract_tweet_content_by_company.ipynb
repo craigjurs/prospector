{
 "cells": [
  {
   "cell_type": "code",
   "execution_count": 3,
   "metadata": {},
   "outputs": [
    {
     "name": "stderr",
     "output_type": "stream",
     "text": [
      "INFO: {'User-Agent': 'Mozilla/5.0 (compatible, MSIE 11, Windows NT 6.3; Trident/7.0; rv:11.0) like Gecko'}\n"
     ]
    }
   ],
   "source": [
    "import datetime as dt\n",
    "import sys\n",
    "sys.path.append('../../')\n",
    "from prospector.core.extractTwitter import ExtractFromTwitter\n",
    "from prospector.core.functions import get_current_date"
   ]
  },
  {
   "cell_type": "markdown",
   "metadata": {},
   "source": [
    "# extractng information from twitter"
   ]
  },
  {
   "cell_type": "code",
   "execution_count": 4,
   "metadata": {},
   "outputs": [],
   "source": [
    "begin_date = dt.date(2020, 1, 1)\n",
    "end_date = get_current_date()"
   ]
  },
  {
   "cell_type": "code",
   "execution_count": 5,
   "metadata": {},
   "outputs": [],
   "source": [
    "#https://lifehacker.com/search-twitter-more-efficiently-with-these-search-opera-1598165519"
   ]
  },
  {
   "cell_type": "code",
   "execution_count": 6,
   "metadata": {},
   "outputs": [
    {
     "name": "stderr",
     "output_type": "stream",
     "text": [
      "INFO: queries: ['bridgstone AND COVID-19 since:2020-01-01 until:2020-01-07', 'bridgstone AND COVID-19 since:2020-01-07 until:2020-01-13', 'bridgstone AND COVID-19 since:2020-01-13 until:2020-01-20', 'bridgstone AND COVID-19 since:2020-01-20 until:2020-01-26', 'bridgstone AND COVID-19 since:2020-01-26 until:2020-02-01', 'bridgstone AND COVID-19 since:2020-02-01 until:2020-02-08', 'bridgstone AND COVID-19 since:2020-02-08 until:2020-02-14', 'bridgstone AND COVID-19 since:2020-02-14 until:2020-02-20', 'bridgstone AND COVID-19 since:2020-02-20 until:2020-02-27', 'bridgstone AND COVID-19 since:2020-02-27 until:2020-03-04', 'bridgstone AND COVID-19 since:2020-03-04 until:2020-03-10', 'bridgstone AND COVID-19 since:2020-03-10 until:2020-03-17', 'bridgstone AND COVID-19 since:2020-03-17 until:2020-03-23', 'bridgstone AND COVID-19 since:2020-03-23 until:2020-03-29', 'bridgstone AND COVID-19 since:2020-03-29 until:2020-04-05', 'bridgstone AND COVID-19 since:2020-04-05 until:2020-04-11', 'bridgstone AND COVID-19 since:2020-04-11 until:2020-04-17', 'bridgstone AND COVID-19 since:2020-04-17 until:2020-04-24', 'bridgstone AND COVID-19 since:2020-04-24 until:2020-04-30', 'bridgstone AND COVID-19 since:2020-04-30 until:2020-05-07']\n",
      "INFO: Got 2 tweets (2 new).\n",
      "INFO: Got 18 tweets (16 new).\n",
      "INFO: Got 30 tweets (12 new).\n",
      "INFO: Got 71 tweets (41 new).\n",
      "INFO: Got 89 tweets (18 new).\n",
      "INFO: Got 109 tweets (20 new).\n",
      "INFO: Got 137 tweets (28 new).\n",
      "INFO: Got 191 tweets (54 new).\n",
      "INFO: Got 215 tweets (24 new).\n",
      "INFO: Got 227 tweets (12 new).\n",
      "INFO: Got 227 tweets (0 new).\n",
      "INFO: Got 227 tweets (0 new).\n",
      "INFO: Got 227 tweets (0 new).\n",
      "INFO: Got 227 tweets (0 new).\n",
      "INFO: Got 227 tweets (0 new).\n",
      "INFO: Got 227 tweets (0 new).\n",
      "INFO: Got 227 tweets (0 new).\n",
      "INFO: Got 227 tweets (0 new).\n",
      "INFO: Got 227 tweets (0 new).\n",
      "INFO: Got 227 tweets (0 new).\n",
      "INFO: queries: ['cooper tire AND COVID-19 since:2020-01-01 until:2020-01-07', 'cooper tire AND COVID-19 since:2020-01-07 until:2020-01-13', 'cooper tire AND COVID-19 since:2020-01-13 until:2020-01-20', 'cooper tire AND COVID-19 since:2020-01-20 until:2020-01-26', 'cooper tire AND COVID-19 since:2020-01-26 until:2020-02-01', 'cooper tire AND COVID-19 since:2020-02-01 until:2020-02-08', 'cooper tire AND COVID-19 since:2020-02-08 until:2020-02-14', 'cooper tire AND COVID-19 since:2020-02-14 until:2020-02-20', 'cooper tire AND COVID-19 since:2020-02-20 until:2020-02-27', 'cooper tire AND COVID-19 since:2020-02-27 until:2020-03-04', 'cooper tire AND COVID-19 since:2020-03-04 until:2020-03-10', 'cooper tire AND COVID-19 since:2020-03-10 until:2020-03-17', 'cooper tire AND COVID-19 since:2020-03-17 until:2020-03-23', 'cooper tire AND COVID-19 since:2020-03-23 until:2020-03-29', 'cooper tire AND COVID-19 since:2020-03-29 until:2020-04-05', 'cooper tire AND COVID-19 since:2020-04-05 until:2020-04-11', 'cooper tire AND COVID-19 since:2020-04-11 until:2020-04-17', 'cooper tire AND COVID-19 since:2020-04-17 until:2020-04-24', 'cooper tire AND COVID-19 since:2020-04-24 until:2020-04-30', 'cooper tire AND COVID-19 since:2020-04-30 until:2020-05-07']\n",
      "INFO: Got 2 tweets (2 new).\n",
      "INFO: Got 4 tweets (2 new).\n",
      "INFO: Got 8 tweets (4 new).\n",
      "INFO: Got 16 tweets (8 new).\n",
      "INFO: Got 18 tweets (2 new).\n",
      "INFO: Got 24 tweets (6 new).\n",
      "INFO: Got 28 tweets (4 new).\n",
      "INFO: Got 28 tweets (0 new).\n",
      "INFO: Got 28 tweets (0 new).\n",
      "INFO: Got 28 tweets (0 new).\n",
      "INFO: Got 28 tweets (0 new).\n",
      "INFO: Got 28 tweets (0 new).\n",
      "INFO: Got 28 tweets (0 new).\n",
      "INFO: Got 28 tweets (0 new).\n",
      "INFO: Got 28 tweets (0 new).\n",
      "INFO: Got 28 tweets (0 new).\n",
      "INFO: Got 28 tweets (0 new).\n",
      "INFO: Got 28 tweets (0 new).\n",
      "INFO: Got 28 tweets (0 new).\n",
      "INFO: Got 28 tweets (0 new).\n",
      "INFO: queries: ['firestone AND COVID-19 since:2020-01-01 until:2020-01-07', 'firestone AND COVID-19 since:2020-01-07 until:2020-01-13', 'firestone AND COVID-19 since:2020-01-13 until:2020-01-20', 'firestone AND COVID-19 since:2020-01-20 until:2020-01-26', 'firestone AND COVID-19 since:2020-01-26 until:2020-02-01', 'firestone AND COVID-19 since:2020-02-01 until:2020-02-08', 'firestone AND COVID-19 since:2020-02-08 until:2020-02-14', 'firestone AND COVID-19 since:2020-02-14 until:2020-02-20', 'firestone AND COVID-19 since:2020-02-20 until:2020-02-27', 'firestone AND COVID-19 since:2020-02-27 until:2020-03-04', 'firestone AND COVID-19 since:2020-03-04 until:2020-03-10', 'firestone AND COVID-19 since:2020-03-10 until:2020-03-17', 'firestone AND COVID-19 since:2020-03-17 until:2020-03-23', 'firestone AND COVID-19 since:2020-03-23 until:2020-03-29', 'firestone AND COVID-19 since:2020-03-29 until:2020-04-05', 'firestone AND COVID-19 since:2020-04-05 until:2020-04-11', 'firestone AND COVID-19 since:2020-04-11 until:2020-04-17', 'firestone AND COVID-19 since:2020-04-17 until:2020-04-24', 'firestone AND COVID-19 since:2020-04-24 until:2020-04-30', 'firestone AND COVID-19 since:2020-04-30 until:2020-05-07']\n",
      "INFO: Got 12 tweets (12 new).\n",
      "INFO: Got 16 tweets (4 new).\n",
      "INFO: Got 26 tweets (10 new).\n",
      "INFO: Got 36 tweets (10 new).\n",
      "INFO: Got 40 tweets (4 new).\n",
      "INFO: Got 46 tweets (6 new).\n",
      "INFO: Got 82 tweets (36 new).\n",
      "INFO: Got 90 tweets (8 new).\n",
      "INFO: Got 108 tweets (18 new).\n",
      "INFO: Got 134 tweets (26 new).\n",
      "INFO: Got 134 tweets (0 new).\n",
      "INFO: Got 134 tweets (0 new).\n",
      "INFO: Got 134 tweets (0 new).\n",
      "INFO: Got 134 tweets (0 new).\n",
      "INFO: Got 134 tweets (0 new).\n",
      "INFO: Got 134 tweets (0 new).\n",
      "INFO: Got 134 tweets (0 new).\n",
      "INFO: Got 134 tweets (0 new).\n",
      "INFO: Got 134 tweets (0 new).\n",
      "INFO: Got 134 tweets (0 new).\n",
      "INFO: queries: ['michelin AND COVID-19 since:2020-01-01 until:2020-01-07', 'michelin AND COVID-19 since:2020-01-07 until:2020-01-13', 'michelin AND COVID-19 since:2020-01-13 until:2020-01-20', 'michelin AND COVID-19 since:2020-01-20 until:2020-01-26', 'michelin AND COVID-19 since:2020-01-26 until:2020-02-01', 'michelin AND COVID-19 since:2020-02-01 until:2020-02-08', 'michelin AND COVID-19 since:2020-02-08 until:2020-02-14', 'michelin AND COVID-19 since:2020-02-14 until:2020-02-20', 'michelin AND COVID-19 since:2020-02-20 until:2020-02-27', 'michelin AND COVID-19 since:2020-02-27 until:2020-03-04', 'michelin AND COVID-19 since:2020-03-04 until:2020-03-10', 'michelin AND COVID-19 since:2020-03-10 until:2020-03-17', 'michelin AND COVID-19 since:2020-03-17 until:2020-03-23', 'michelin AND COVID-19 since:2020-03-23 until:2020-03-29', 'michelin AND COVID-19 since:2020-03-29 until:2020-04-05', 'michelin AND COVID-19 since:2020-04-05 until:2020-04-11', 'michelin AND COVID-19 since:2020-04-11 until:2020-04-17', 'michelin AND COVID-19 since:2020-04-17 until:2020-04-24', 'michelin AND COVID-19 since:2020-04-24 until:2020-04-30', 'michelin AND COVID-19 since:2020-04-30 until:2020-05-07']\n",
      "INFO: Got 2 tweets (2 new).\n",
      "INFO: Got 38 tweets (36 new).\n",
      "INFO: Got 64 tweets (26 new).\n",
      "INFO: Got 166 tweets (102 new).\n",
      "INFO: Got 233 tweets (67 new).\n",
      "INFO: Got 314 tweets (81 new).\n",
      "INFO: Got 393 tweets (79 new).\n",
      "INFO: Got 497 tweets (104 new).\n",
      "INFO: Got 587 tweets (90 new).\n",
      "INFO: Got 723 tweets (136 new).\n",
      "INFO: Got 831 tweets (108 new).\n",
      "INFO: Got 1136 tweets (305 new).\n",
      "INFO: Got 1136 tweets (0 new).\n",
      "INFO: Got 1136 tweets (0 new).\n",
      "INFO: Got 1136 tweets (0 new).\n",
      "INFO: Got 1136 tweets (0 new).\n",
      "INFO: Got 1136 tweets (0 new).\n",
      "INFO: Got 1136 tweets (0 new).\n",
      "INFO: Got 1136 tweets (0 new).\n",
      "INFO: Got 1136 tweets (0 new).\n",
      "INFO: queries: ['pirelli AND COVID-19 since:2020-01-01 until:2020-01-07', 'pirelli AND COVID-19 since:2020-01-07 until:2020-01-13', 'pirelli AND COVID-19 since:2020-01-13 until:2020-01-20', 'pirelli AND COVID-19 since:2020-01-20 until:2020-01-26', 'pirelli AND COVID-19 since:2020-01-26 until:2020-02-01', 'pirelli AND COVID-19 since:2020-02-01 until:2020-02-08', 'pirelli AND COVID-19 since:2020-02-08 until:2020-02-14', 'pirelli AND COVID-19 since:2020-02-14 until:2020-02-20', 'pirelli AND COVID-19 since:2020-02-20 until:2020-02-27', 'pirelli AND COVID-19 since:2020-02-27 until:2020-03-04', 'pirelli AND COVID-19 since:2020-03-04 until:2020-03-10', 'pirelli AND COVID-19 since:2020-03-10 until:2020-03-17', 'pirelli AND COVID-19 since:2020-03-17 until:2020-03-23', 'pirelli AND COVID-19 since:2020-03-23 until:2020-03-29', 'pirelli AND COVID-19 since:2020-03-29 until:2020-04-05', 'pirelli AND COVID-19 since:2020-04-05 until:2020-04-11', 'pirelli AND COVID-19 since:2020-04-11 until:2020-04-17', 'pirelli AND COVID-19 since:2020-04-17 until:2020-04-24', 'pirelli AND COVID-19 since:2020-04-24 until:2020-04-30', 'pirelli AND COVID-19 since:2020-04-30 until:2020-05-07']\n"
     ]
    },
    {
     "name": "stderr",
     "output_type": "stream",
     "text": [
      "INFO: Got 2 tweets (2 new).\n",
      "INFO: Got 10 tweets (8 new).\n",
      "INFO: Got 34 tweets (24 new).\n",
      "INFO: Got 62 tweets (28 new).\n",
      "INFO: Got 74 tweets (12 new).\n",
      "INFO: Got 84 tweets (10 new).\n",
      "INFO: Got 118 tweets (34 new).\n",
      "INFO: Got 176 tweets (58 new).\n",
      "INFO: Got 228 tweets (52 new).\n",
      "INFO: Got 270 tweets (42 new).\n",
      "INFO: Got 317 tweets (47 new).\n",
      "INFO: Got 377 tweets (60 new).\n",
      "INFO: Got 377 tweets (0 new).\n",
      "INFO: Got 377 tweets (0 new).\n",
      "INFO: Got 377 tweets (0 new).\n",
      "INFO: Got 377 tweets (0 new).\n",
      "INFO: Got 377 tweets (0 new).\n",
      "INFO: Got 377 tweets (0 new).\n",
      "INFO: Got 377 tweets (0 new).\n",
      "INFO: Got 377 tweets (0 new).\n",
      "INFO: queries: ['goodyear AND COVID-19 since:2020-01-01 until:2020-01-07', 'goodyear AND COVID-19 since:2020-01-07 until:2020-01-13', 'goodyear AND COVID-19 since:2020-01-13 until:2020-01-20', 'goodyear AND COVID-19 since:2020-01-20 until:2020-01-26', 'goodyear AND COVID-19 since:2020-01-26 until:2020-02-01', 'goodyear AND COVID-19 since:2020-02-01 until:2020-02-08', 'goodyear AND COVID-19 since:2020-02-08 until:2020-02-14', 'goodyear AND COVID-19 since:2020-02-14 until:2020-02-20', 'goodyear AND COVID-19 since:2020-02-20 until:2020-02-27', 'goodyear AND COVID-19 since:2020-02-27 until:2020-03-04', 'goodyear AND COVID-19 since:2020-03-04 until:2020-03-10', 'goodyear AND COVID-19 since:2020-03-10 until:2020-03-17', 'goodyear AND COVID-19 since:2020-03-17 until:2020-03-23', 'goodyear AND COVID-19 since:2020-03-23 until:2020-03-29', 'goodyear AND COVID-19 since:2020-03-29 until:2020-04-05', 'goodyear AND COVID-19 since:2020-04-05 until:2020-04-11', 'goodyear AND COVID-19 since:2020-04-11 until:2020-04-17', 'goodyear AND COVID-19 since:2020-04-17 until:2020-04-24', 'goodyear AND COVID-19 since:2020-04-24 until:2020-04-30', 'goodyear AND COVID-19 since:2020-04-30 until:2020-05-07']\n",
      "INFO: Got 22 tweets (22 new).\n",
      "INFO: Got 46 tweets (24 new).\n",
      "INFO: Got 74 tweets (28 new).\n",
      "INFO: Got 100 tweets (26 new).\n",
      "INFO: Got 118 tweets (18 new).\n",
      "INFO: Got 170 tweets (52 new).\n",
      "INFO: Got 211 tweets (41 new).\n",
      "INFO: Got 280 tweets (69 new).\n",
      "INFO: Got 316 tweets (36 new).\n",
      "INFO: Got 316 tweets (0 new).\n",
      "INFO: Got 316 tweets (0 new).\n",
      "INFO: Got 316 tweets (0 new).\n",
      "INFO: Got 316 tweets (0 new).\n",
      "INFO: Got 316 tweets (0 new).\n",
      "INFO: Got 316 tweets (0 new).\n",
      "INFO: Got 316 tweets (0 new).\n",
      "INFO: Got 316 tweets (0 new).\n",
      "INFO: Got 316 tweets (0 new).\n",
      "INFO: Got 316 tweets (0 new).\n",
      "INFO: Got 316 tweets (0 new).\n",
      "INFO: queries: ['dunlop AND COVID-19 since:2020-01-01 until:2020-01-07', 'dunlop AND COVID-19 since:2020-01-07 until:2020-01-13', 'dunlop AND COVID-19 since:2020-01-13 until:2020-01-20', 'dunlop AND COVID-19 since:2020-01-20 until:2020-01-26', 'dunlop AND COVID-19 since:2020-01-26 until:2020-02-01', 'dunlop AND COVID-19 since:2020-02-01 until:2020-02-08', 'dunlop AND COVID-19 since:2020-02-08 until:2020-02-14', 'dunlop AND COVID-19 since:2020-02-14 until:2020-02-20', 'dunlop AND COVID-19 since:2020-02-20 until:2020-02-27', 'dunlop AND COVID-19 since:2020-02-27 until:2020-03-04', 'dunlop AND COVID-19 since:2020-03-04 until:2020-03-10', 'dunlop AND COVID-19 since:2020-03-10 until:2020-03-17', 'dunlop AND COVID-19 since:2020-03-17 until:2020-03-23', 'dunlop AND COVID-19 since:2020-03-23 until:2020-03-29', 'dunlop AND COVID-19 since:2020-03-29 until:2020-04-05', 'dunlop AND COVID-19 since:2020-04-05 until:2020-04-11', 'dunlop AND COVID-19 since:2020-04-11 until:2020-04-17', 'dunlop AND COVID-19 since:2020-04-17 until:2020-04-24', 'dunlop AND COVID-19 since:2020-04-24 until:2020-04-30', 'dunlop AND COVID-19 since:2020-04-30 until:2020-05-07']\n",
      "INFO: Got 8 tweets (8 new).\n",
      "INFO: Got 26 tweets (18 new).\n",
      "INFO: Got 40 tweets (14 new).\n",
      "INFO: Got 54 tweets (14 new).\n",
      "INFO: Got 64 tweets (10 new).\n",
      "INFO: Got 74 tweets (10 new).\n",
      "INFO: Got 88 tweets (14 new).\n",
      "INFO: Got 104 tweets (16 new).\n",
      "INFO: Got 126 tweets (22 new).\n",
      "INFO: Got 126 tweets (0 new).\n",
      "INFO: Got 126 tweets (0 new).\n",
      "INFO: Got 126 tweets (0 new).\n",
      "INFO: Got 126 tweets (0 new).\n",
      "INFO: Got 126 tweets (0 new).\n",
      "INFO: Got 126 tweets (0 new).\n",
      "INFO: Got 126 tweets (0 new).\n",
      "INFO: Got 126 tweets (0 new).\n",
      "INFO: Got 126 tweets (0 new).\n",
      "INFO: Got 126 tweets (0 new).\n",
      "INFO: Got 126 tweets (0 new).\n",
      "INFO: queries: ['bfgoodrich AND COVID-19 since:2020-01-01 until:2020-01-07', 'bfgoodrich AND COVID-19 since:2020-01-07 until:2020-01-13', 'bfgoodrich AND COVID-19 since:2020-01-13 until:2020-01-20', 'bfgoodrich AND COVID-19 since:2020-01-20 until:2020-01-26', 'bfgoodrich AND COVID-19 since:2020-01-26 until:2020-02-01', 'bfgoodrich AND COVID-19 since:2020-02-01 until:2020-02-08', 'bfgoodrich AND COVID-19 since:2020-02-08 until:2020-02-14', 'bfgoodrich AND COVID-19 since:2020-02-14 until:2020-02-20', 'bfgoodrich AND COVID-19 since:2020-02-20 until:2020-02-27', 'bfgoodrich AND COVID-19 since:2020-02-27 until:2020-03-04', 'bfgoodrich AND COVID-19 since:2020-03-04 until:2020-03-10', 'bfgoodrich AND COVID-19 since:2020-03-10 until:2020-03-17', 'bfgoodrich AND COVID-19 since:2020-03-17 until:2020-03-23', 'bfgoodrich AND COVID-19 since:2020-03-23 until:2020-03-29', 'bfgoodrich AND COVID-19 since:2020-03-29 until:2020-04-05', 'bfgoodrich AND COVID-19 since:2020-04-05 until:2020-04-11', 'bfgoodrich AND COVID-19 since:2020-04-11 until:2020-04-17', 'bfgoodrich AND COVID-19 since:2020-04-17 until:2020-04-24', 'bfgoodrich AND COVID-19 since:2020-04-24 until:2020-04-30', 'bfgoodrich AND COVID-19 since:2020-04-30 until:2020-05-07']\n",
      "INFO: Got 2 tweets (2 new).\n",
      "INFO: Got 4 tweets (2 new).\n",
      "INFO: Got 4 tweets (0 new).\n",
      "INFO: Got 4 tweets (0 new).\n",
      "INFO: Got 4 tweets (0 new).\n",
      "INFO: Got 4 tweets (0 new).\n",
      "INFO: Got 4 tweets (0 new).\n",
      "INFO: Got 4 tweets (0 new).\n",
      "INFO: Got 4 tweets (0 new).\n",
      "INFO: Got 4 tweets (0 new).\n",
      "INFO: Got 4 tweets (0 new).\n",
      "INFO: Got 4 tweets (0 new).\n",
      "INFO: Got 4 tweets (0 new).\n",
      "INFO: Got 4 tweets (0 new).\n",
      "INFO: Got 4 tweets (0 new).\n",
      "INFO: Got 4 tweets (0 new).\n",
      "INFO: Got 4 tweets (0 new).\n",
      "INFO: Got 4 tweets (0 new).\n",
      "INFO: Got 4 tweets (0 new).\n",
      "INFO: Got 4 tweets (0 new).\n"
     ]
    }
   ],
   "source": [
    "sam = ExtractFromTwitter(begin_date,end_date)\n",
    "sam.search_terms = \"COVID-19\"\n",
    "sam.company_tweets_to_dictionary()"
   ]
  },
  {
   "cell_type": "code",
   "execution_count": 7,
   "metadata": {},
   "outputs": [
    {
     "data": {
      "text/plain": [
       "dict_keys(['bridgstone', 'cooper', 'firestone', 'michelin', 'pirelli', 'goodyear', 'dunlop', 'bfgoodrich'])"
      ]
     },
     "execution_count": 7,
     "metadata": {},
     "output_type": "execute_result"
    }
   ],
   "source": [
    "sam.company_tweets.keys()"
   ]
  },
  {
   "cell_type": "code",
   "execution_count": 8,
   "metadata": {},
   "outputs": [
    {
     "data": {
      "text/plain": [
       "(Timestamp('2020-04-03 22:14:40'),\n",
       " 'Cooper Tire plants to remain idled as COVID-19 spreads http://www.rubbernews.com/coronavirus/cooper-tire-plants-remain-idled-covid-19-spreads\\xa0… via @rubbernews')"
      ]
     },
     "execution_count": 8,
     "metadata": {},
     "output_type": "execute_result"
    }
   ],
   "source": [
    "sam.company_tweets['cooper'].timestamp[0], sam.company_tweets['cooper'].text[0]"
   ]
  },
  {
   "cell_type": "code",
   "execution_count": 9,
   "metadata": {},
   "outputs": [],
   "source": [
    "sam.compile_company_tweet_dictionary_to_pandas()"
   ]
  },
  {
   "cell_type": "code",
   "execution_count": 10,
   "metadata": {},
   "outputs": [],
   "source": [
    "df_covid_tweets = sam.df_tweets.reset_index(drop=True)"
   ]
  },
  {
   "cell_type": "code",
   "execution_count": 65,
   "metadata": {},
   "outputs": [
    {
     "data": {
      "text/plain": [
       "['company',\n",
       " 'screen_name',\n",
       " 'username',\n",
       " 'user_id',\n",
       " 'tweet_id',\n",
       " 'tweet_url',\n",
       " 'timestamp',\n",
       " 'timestamp_epochs',\n",
       " 'text',\n",
       " 'text_html',\n",
       " 'links',\n",
       " 'hashtags',\n",
       " 'has_media',\n",
       " 'img_urls',\n",
       " 'video_url',\n",
       " 'likes',\n",
       " 'retweets',\n",
       " 'replies',\n",
       " 'is_replied',\n",
       " 'is_reply_to',\n",
       " 'parent_tweet_id',\n",
       " 'reply_to_users']"
      ]
     },
     "execution_count": 65,
     "metadata": {},
     "output_type": "execute_result"
    }
   ],
   "source": [
    "df_covid_tweets.columns.tolist()"
   ]
  },
  {
   "cell_type": "code",
   "execution_count": 72,
   "metadata": {},
   "outputs": [
    {
     "data": {
      "text/html": [
       "<div>\n",
       "<style scoped>\n",
       "    .dataframe tbody tr th:only-of-type {\n",
       "        vertical-align: middle;\n",
       "    }\n",
       "\n",
       "    .dataframe tbody tr th {\n",
       "        vertical-align: top;\n",
       "    }\n",
       "\n",
       "    .dataframe thead th {\n",
       "        text-align: right;\n",
       "    }\n",
       "</style>\n",
       "<table border=\"1\" class=\"dataframe\">\n",
       "  <thead>\n",
       "    <tr style=\"text-align: right;\">\n",
       "      <th></th>\n",
       "      <th>timestamp</th>\n",
       "      <th>text</th>\n",
       "    </tr>\n",
       "  </thead>\n",
       "  <tbody>\n",
       "    <tr>\n",
       "      <th>0</th>\n",
       "      <td>2020-05-06 21:05:14</td>\n",
       "      <td>Michelin-starred San Francisco restaurant @kin...</td>\n",
       "    </tr>\n",
       "    <tr>\n",
       "      <th>1</th>\n",
       "      <td>2020-05-06 21:05:14</td>\n",
       "      <td>Michelin-starred San Francisco restaurant @kin...</td>\n",
       "    </tr>\n",
       "    <tr>\n",
       "      <th>2</th>\n",
       "      <td>2020-05-06 20:37:09</td>\n",
       "      <td>Happy #NationalNursesDay! The Goodyear Police ...</td>\n",
       "    </tr>\n",
       "    <tr>\n",
       "      <th>3</th>\n",
       "      <td>2020-05-06 20:37:09</td>\n",
       "      <td>Happy #NationalNursesDay! The Goodyear Police ...</td>\n",
       "    </tr>\n",
       "    <tr>\n",
       "      <th>4</th>\n",
       "      <td>2020-05-06 19:18:21</td>\n",
       "      <td>@NumisSecurities Industrial Property Conferenc...</td>\n",
       "    </tr>\n",
       "    <tr>\n",
       "      <th>...</th>\n",
       "      <td>...</td>\n",
       "      <td>...</td>\n",
       "    </tr>\n",
       "    <tr>\n",
       "      <th>2343</th>\n",
       "      <td>2020-02-29 12:01:27</td>\n",
       "      <td>#Michelin hat die #Sterneverleihung des #MICHE...</td>\n",
       "    </tr>\n",
       "    <tr>\n",
       "      <th>2344</th>\n",
       "      <td>2020-02-25 16:36:39</td>\n",
       "      <td>Coronavirus updates: 5 dead and 200 infected i...</td>\n",
       "    </tr>\n",
       "    <tr>\n",
       "      <th>2345</th>\n",
       "      <td>2020-02-25 16:36:39</td>\n",
       "      <td>Coronavirus updates: 5 dead and 200 infected i...</td>\n",
       "    </tr>\n",
       "    <tr>\n",
       "      <th>2346</th>\n",
       "      <td>2020-02-19 11:19:27</td>\n",
       "      <td>PIRELLI OPERATIONS SUSPENDED IN 2 CHINESE FACT...</td>\n",
       "    </tr>\n",
       "    <tr>\n",
       "      <th>2347</th>\n",
       "      <td>2020-02-19 11:19:27</td>\n",
       "      <td>PIRELLI OPERATIONS SUSPENDED IN 2 CHINESE FACT...</td>\n",
       "    </tr>\n",
       "  </tbody>\n",
       "</table>\n",
       "<p>2348 rows × 2 columns</p>\n",
       "</div>"
      ],
      "text/plain": [
       "               timestamp                                               text\n",
       "0    2020-05-06 21:05:14  Michelin-starred San Francisco restaurant @kin...\n",
       "1    2020-05-06 21:05:14  Michelin-starred San Francisco restaurant @kin...\n",
       "2    2020-05-06 20:37:09  Happy #NationalNursesDay! The Goodyear Police ...\n",
       "3    2020-05-06 20:37:09  Happy #NationalNursesDay! The Goodyear Police ...\n",
       "4    2020-05-06 19:18:21  @NumisSecurities Industrial Property Conferenc...\n",
       "...                  ...                                                ...\n",
       "2343 2020-02-29 12:01:27  #Michelin hat die #Sterneverleihung des #MICHE...\n",
       "2344 2020-02-25 16:36:39  Coronavirus updates: 5 dead and 200 infected i...\n",
       "2345 2020-02-25 16:36:39  Coronavirus updates: 5 dead and 200 infected i...\n",
       "2346 2020-02-19 11:19:27  PIRELLI OPERATIONS SUSPENDED IN 2 CHINESE FACT...\n",
       "2347 2020-02-19 11:19:27  PIRELLI OPERATIONS SUSPENDED IN 2 CHINESE FACT...\n",
       "\n",
       "[2348 rows x 2 columns]"
      ]
     },
     "execution_count": 72,
     "metadata": {},
     "output_type": "execute_result"
    }
   ],
   "source": [
    "df_covid_tweets[['timestamp', 'text']]"
   ]
  },
  {
   "cell_type": "markdown",
   "metadata": {},
   "source": [
    "# NLP"
   ]
  },
  {
   "cell_type": "code",
   "execution_count": 12,
   "metadata": {},
   "outputs": [],
   "source": [
    "import spacy\n",
    "nlp = spacy.load(\"en_core_web_md\")"
   ]
  },
  {
   "cell_type": "code",
   "execution_count": 13,
   "metadata": {},
   "outputs": [],
   "source": [
    "from spacy.lang.en.stop_words import STOP_WORDS\n",
    "import scattertext\n",
    "import pandas as pd\n",
    "from spacy.matcher import PhraseMatcher"
   ]
  },
  {
   "cell_type": "code",
   "execution_count": 14,
   "metadata": {},
   "outputs": [],
   "source": [
    "doc = df_covid_tweets.text.apply(lambda x: nlp(x.lower()))"
   ]
  },
  {
   "cell_type": "code",
   "execution_count": 46,
   "metadata": {},
   "outputs": [],
   "source": [
    "matcher = PhraseMatcher(nlp.vocab)\n",
    "pattern1 = nlp('factories')\n",
    "pattern2 = nlp('furloughing')\n",
    "pattern3 = nlp('coronavirus pandemic')\n",
    "matcher.add('PLACE', None, pattern1)\n",
    "matcher.add('EVENT', None, pattern2)\n",
    "matcher.add('EVENT', None, pattern3)"
   ]
  },
  {
   "cell_type": "code",
   "execution_count": 47,
   "metadata": {
    "scrolled": true
   },
   "outputs": [
    {
     "name": "stdout",
     "output_type": "stream",
     "text": [
      "macthed span tweet# 129: factories\n",
      "macthed span tweet# 130: factories\n",
      "macthed span tweet# 585: coronavirus pandemic\n",
      "macthed span tweet# 586: coronavirus pandemic\n",
      "macthed span tweet# 605: coronavirus pandemic\n",
      "macthed span tweet# 606: coronavirus pandemic\n",
      "macthed span tweet# 1137: coronavirus pandemic\n",
      "macthed span tweet# 1138: coronavirus pandemic\n",
      "macthed span tweet# 1268: furloughing\n",
      "macthed span tweet# 1268: coronavirus pandemic\n",
      "macthed span tweet# 1269: furloughing\n",
      "macthed span tweet# 1269: coronavirus pandemic\n",
      "macthed span tweet# 1279: furloughing\n",
      "macthed span tweet# 1279: coronavirus pandemic\n",
      "macthed span tweet# 1280: furloughing\n",
      "macthed span tweet# 1280: coronavirus pandemic\n",
      "macthed span tweet# 1281: furloughing\n",
      "macthed span tweet# 1281: coronavirus pandemic\n",
      "macthed span tweet# 1282: furloughing\n",
      "macthed span tweet# 1282: coronavirus pandemic\n",
      "macthed span tweet# 1283: furloughing\n",
      "macthed span tweet# 1283: coronavirus pandemic\n",
      "macthed span tweet# 1284: furloughing\n",
      "macthed span tweet# 1284: coronavirus pandemic\n",
      "macthed span tweet# 1639: coronavirus pandemic\n",
      "macthed span tweet# 1689: factories\n",
      "macthed span tweet# 1783: coronavirus pandemic\n",
      "macthed span tweet# 1784: coronavirus pandemic\n",
      "macthed span tweet# 1862: factories\n",
      "macthed span tweet# 1863: factories\n",
      "macthed span tweet# 1899: factories\n",
      "macthed span tweet# 1900: factories\n",
      "macthed span tweet# 2346: factories\n",
      "macthed span tweet# 2347: factories\n"
     ]
    }
   ],
   "source": [
    "#find the match, ID tweet\n",
    "for i, line in enumerate(doc):\n",
    "    for match_id, start, end in matcher(line):\n",
    "        span = line[start:end]\n",
    "        print('macthed span tweet# ' + str(i) +':', span.text)"
   ]
  },
  {
   "cell_type": "code",
   "execution_count": 61,
   "metadata": {},
   "outputs": [
    {
     "name": "stdout",
     "output_type": "stream",
     "text": [
      "bridgestone retail operations is a proud supporter of @bgca_clubs whose services are even more important now during the coronavirus pandemic. to support, bsro is giving all customer donations made in q1 2020 to the bgca covid-19 relief fund. http://ow.ly/rl5f50z6qfh pic.twitter.com/bbrgyxtiuw\n"
     ]
    }
   ],
   "source": [
    "#look at tweet with matched phrase\n",
    "focused_tweet = doc[1137]\n",
    "print(focused_tweet)"
   ]
  },
  {
   "cell_type": "code",
   "execution_count": 54,
   "metadata": {},
   "outputs": [
    {
     "name": "stdout",
     "output_type": "stream",
     "text": [
      "bridgestone PROPN     compound  \n",
      "retail      ADJ       amod      \n",
      "operations  NOUN      nsubj     \n",
      "is          AUX       ROOT      \n",
      "a           DET       det       \n",
      "proud       ADJ       amod      \n",
      "supporter   NOUN      attr      \n",
      "of          ADP       prep      \n",
      "@bgca_clubs PROPN     pobj      \n",
      "whose       DET       poss      \n",
      "services    NOUN      nsubj     \n",
      "are         AUX       relcl     \n",
      "even        ADV       advmod    \n",
      "more        ADV       advmod    \n",
      "important   ADJ       acomp     \n",
      "now         ADV       advmod    \n",
      "during      ADP       prep      \n",
      "the         DET       det       \n",
      "coronavirus NOUN      compound  \n",
      "pandemic    NOUN      pobj      \n",
      ".           PUNCT     punct     \n",
      "to          PART      aux       \n",
      "support     VERB      advcl     \n",
      ",           PUNCT     punct     \n",
      "bsro        PROPN     nsubj     \n",
      "is          AUX       aux       \n",
      "giving      VERB      ROOT      \n",
      "all         DET       det       \n",
      "customer    NOUN      compound  \n",
      "donations   NOUN      dobj      \n",
      "made        VERB      acl       \n",
      "in          ADP       prep      \n",
      "q1          PROPN     pobj      \n",
      "2020        NUM       nummod    \n",
      "to          ADP       dative    \n",
      "the         DET       det       \n",
      "bgca        ADJ       compound  \n",
      "covid-19    NUM       neg       \n",
      "relief      NOUN      compound  \n",
      "fund        NOUN      pobj      \n",
      ".           PUNCT     punct     \n",
      "http://ow.ly/rl5f50z6qfhX         ROOT      \n",
      "            SPACE               \n",
      "pic.twitter.com/bbrgyxtiuwPROPN     punct     \n"
     ]
    }
   ],
   "source": [
    "for token in focused_tweet:\n",
    "    print('{:<12}{:<10}{:<10}'.format(token.text, token.pos_, token.dep_))"
   ]
  },
  {
   "cell_type": "code",
   "execution_count": 56,
   "metadata": {
    "scrolled": true
   },
   "outputs": [
    {
     "name": "stdout",
     "output_type": "stream",
     "text": [
      "17434099631913130510\n",
      "bridgestone\n"
     ]
    }
   ],
   "source": [
    "# test.to_json()\n",
    "# spacy.explain('PROPN')\n",
    "hash_ = nlp.vocab.strings[str(focused_tweet[0])]\n",
    "print(hash_)\n",
    "print(nlp.vocab.strings[hash_])"
   ]
  },
  {
   "cell_type": "code",
   "execution_count": 57,
   "metadata": {},
   "outputs": [
    {
     "data": {
      "text/plain": [
       "[bridgestone retail operations,\n",
       " a proud supporter,\n",
       " @bgca_clubs,\n",
       " whose services,\n",
       " the coronavirus pandemic,\n",
       " bsro,\n",
       " all customer donations,\n",
       " q1,\n",
       " the bgca covid-19 relief fund]"
      ]
     },
     "execution_count": 57,
     "metadata": {},
     "output_type": "execute_result"
    }
   ],
   "source": [
    "[noun for noun in focused_tweet.noun_chunks]"
   ]
  },
  {
   "cell_type": "code",
   "execution_count": 59,
   "metadata": {},
   "outputs": [
    {
     "name": "stdout",
     "output_type": "stream",
     "text": [
      "[bridgestone retail operations is a proud supporter of @bgca_clubs whose services are even more important now during the coronavirus pandemic., to support, bsro is giving all customer donations made in q1 2020 to the bgca covid-19 relief fund., http://ow.ly/rl5f50z6qfh pic.twitter.com/bbrgyxtiuw]\n"
     ]
    }
   ],
   "source": [
    "sentences = [sent for sent in focused_tweet.sents]\n",
    "print(sentences)"
   ]
  },
  {
   "cell_type": "code",
   "execution_count": null,
   "metadata": {},
   "outputs": [],
   "source": []
  }
 ],
 "metadata": {
  "kernelspec": {
   "display_name": "web_scrape",
   "language": "python",
   "name": "web_scrape"
  },
  "language_info": {
   "codemirror_mode": {
    "name": "ipython",
    "version": 3
   },
   "file_extension": ".py",
   "mimetype": "text/x-python",
   "name": "python",
   "nbconvert_exporter": "python",
   "pygments_lexer": "ipython3",
   "version": "3.7.7"
  }
 },
 "nbformat": 4,
 "nbformat_minor": 4
}
